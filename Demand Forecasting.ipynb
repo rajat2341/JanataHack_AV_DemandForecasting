{
 "cells": [
  {
   "cell_type": "code",
   "execution_count": 173,
   "metadata": {},
   "outputs": [],
   "source": [
    "import pandas as pd\n",
    "import numpy as np\n",
    "import matplotlib.pyplot as plt\n",
    "%matplotlib inline\n",
    "import seaborn as sns\n",
    "sns.set()\n",
    "\n",
    "import warnings\n",
    "warnings.filterwarnings(\"ignore\")"
   ]
  },
  {
   "cell_type": "code",
   "execution_count": 174,
   "metadata": {},
   "outputs": [],
   "source": [
    "train = pd.read_csv('data/train.csv')\n",
    "test = pd.read_csv('data/test.csv')\n",
    "ss = pd.read_csv('data/sampleSubmission.csv')"
   ]
  },
  {
   "cell_type": "code",
   "execution_count": 175,
   "metadata": {},
   "outputs": [
    {
     "data": {
      "text/html": [
       "<div>\n",
       "<style scoped>\n",
       "    .dataframe tbody tr th:only-of-type {\n",
       "        vertical-align: middle;\n",
       "    }\n",
       "\n",
       "    .dataframe tbody tr th {\n",
       "        vertical-align: top;\n",
       "    }\n",
       "\n",
       "    .dataframe thead th {\n",
       "        text-align: right;\n",
       "    }\n",
       "</style>\n",
       "<table border=\"1\" class=\"dataframe\">\n",
       "  <thead>\n",
       "    <tr style=\"text-align: right;\">\n",
       "      <th></th>\n",
       "      <th>record_ID</th>\n",
       "      <th>week</th>\n",
       "      <th>store_id</th>\n",
       "      <th>sku_id</th>\n",
       "      <th>total_price</th>\n",
       "      <th>base_price</th>\n",
       "      <th>is_featured_sku</th>\n",
       "      <th>is_display_sku</th>\n",
       "    </tr>\n",
       "  </thead>\n",
       "  <tbody>\n",
       "    <tr>\n",
       "      <th>0</th>\n",
       "      <td>212645</td>\n",
       "      <td>16/07/13</td>\n",
       "      <td>8091</td>\n",
       "      <td>216418</td>\n",
       "      <td>108.3000</td>\n",
       "      <td>108.3000</td>\n",
       "      <td>0</td>\n",
       "      <td>0</td>\n",
       "    </tr>\n",
       "    <tr>\n",
       "      <th>1</th>\n",
       "      <td>212646</td>\n",
       "      <td>16/07/13</td>\n",
       "      <td>8091</td>\n",
       "      <td>216419</td>\n",
       "      <td>109.0125</td>\n",
       "      <td>109.0125</td>\n",
       "      <td>0</td>\n",
       "      <td>0</td>\n",
       "    </tr>\n",
       "    <tr>\n",
       "      <th>2</th>\n",
       "      <td>212647</td>\n",
       "      <td>16/07/13</td>\n",
       "      <td>8091</td>\n",
       "      <td>216425</td>\n",
       "      <td>133.9500</td>\n",
       "      <td>133.9500</td>\n",
       "      <td>0</td>\n",
       "      <td>0</td>\n",
       "    </tr>\n",
       "    <tr>\n",
       "      <th>3</th>\n",
       "      <td>212648</td>\n",
       "      <td>16/07/13</td>\n",
       "      <td>8091</td>\n",
       "      <td>216233</td>\n",
       "      <td>133.9500</td>\n",
       "      <td>133.9500</td>\n",
       "      <td>0</td>\n",
       "      <td>0</td>\n",
       "    </tr>\n",
       "    <tr>\n",
       "      <th>4</th>\n",
       "      <td>212649</td>\n",
       "      <td>16/07/13</td>\n",
       "      <td>8091</td>\n",
       "      <td>217390</td>\n",
       "      <td>176.7000</td>\n",
       "      <td>176.7000</td>\n",
       "      <td>0</td>\n",
       "      <td>0</td>\n",
       "    </tr>\n",
       "  </tbody>\n",
       "</table>\n",
       "</div>"
      ],
      "text/plain": [
       "   record_ID      week  store_id  sku_id  total_price  base_price  \\\n",
       "0     212645  16/07/13      8091  216418     108.3000    108.3000   \n",
       "1     212646  16/07/13      8091  216419     109.0125    109.0125   \n",
       "2     212647  16/07/13      8091  216425     133.9500    133.9500   \n",
       "3     212648  16/07/13      8091  216233     133.9500    133.9500   \n",
       "4     212649  16/07/13      8091  217390     176.7000    176.7000   \n",
       "\n",
       "   is_featured_sku  is_display_sku  \n",
       "0                0               0  \n",
       "1                0               0  \n",
       "2                0               0  \n",
       "3                0               0  \n",
       "4                0               0  "
      ]
     },
     "execution_count": 175,
     "metadata": {},
     "output_type": "execute_result"
    }
   ],
   "source": [
    "test.head()"
   ]
  },
  {
   "cell_type": "code",
   "execution_count": 176,
   "metadata": {},
   "outputs": [
    {
     "data": {
      "text/html": [
       "<div>\n",
       "<style scoped>\n",
       "    .dataframe tbody tr th:only-of-type {\n",
       "        vertical-align: middle;\n",
       "    }\n",
       "\n",
       "    .dataframe tbody tr th {\n",
       "        vertical-align: top;\n",
       "    }\n",
       "\n",
       "    .dataframe thead th {\n",
       "        text-align: right;\n",
       "    }\n",
       "</style>\n",
       "<table border=\"1\" class=\"dataframe\">\n",
       "  <thead>\n",
       "    <tr style=\"text-align: right;\">\n",
       "      <th></th>\n",
       "      <th>record_ID</th>\n",
       "      <th>week</th>\n",
       "      <th>store_id</th>\n",
       "      <th>sku_id</th>\n",
       "      <th>total_price</th>\n",
       "      <th>base_price</th>\n",
       "      <th>is_featured_sku</th>\n",
       "      <th>is_display_sku</th>\n",
       "      <th>units_sold</th>\n",
       "    </tr>\n",
       "  </thead>\n",
       "  <tbody>\n",
       "    <tr>\n",
       "      <th>0</th>\n",
       "      <td>1</td>\n",
       "      <td>17/01/11</td>\n",
       "      <td>8091</td>\n",
       "      <td>216418</td>\n",
       "      <td>99.0375</td>\n",
       "      <td>111.8625</td>\n",
       "      <td>0</td>\n",
       "      <td>0</td>\n",
       "      <td>20</td>\n",
       "    </tr>\n",
       "    <tr>\n",
       "      <th>1</th>\n",
       "      <td>2</td>\n",
       "      <td>17/01/11</td>\n",
       "      <td>8091</td>\n",
       "      <td>216419</td>\n",
       "      <td>99.0375</td>\n",
       "      <td>99.0375</td>\n",
       "      <td>0</td>\n",
       "      <td>0</td>\n",
       "      <td>28</td>\n",
       "    </tr>\n",
       "    <tr>\n",
       "      <th>2</th>\n",
       "      <td>3</td>\n",
       "      <td>17/01/11</td>\n",
       "      <td>8091</td>\n",
       "      <td>216425</td>\n",
       "      <td>133.9500</td>\n",
       "      <td>133.9500</td>\n",
       "      <td>0</td>\n",
       "      <td>0</td>\n",
       "      <td>19</td>\n",
       "    </tr>\n",
       "    <tr>\n",
       "      <th>3</th>\n",
       "      <td>4</td>\n",
       "      <td>17/01/11</td>\n",
       "      <td>8091</td>\n",
       "      <td>216233</td>\n",
       "      <td>133.9500</td>\n",
       "      <td>133.9500</td>\n",
       "      <td>0</td>\n",
       "      <td>0</td>\n",
       "      <td>44</td>\n",
       "    </tr>\n",
       "    <tr>\n",
       "      <th>4</th>\n",
       "      <td>5</td>\n",
       "      <td>17/01/11</td>\n",
       "      <td>8091</td>\n",
       "      <td>217390</td>\n",
       "      <td>141.0750</td>\n",
       "      <td>141.0750</td>\n",
       "      <td>0</td>\n",
       "      <td>0</td>\n",
       "      <td>52</td>\n",
       "    </tr>\n",
       "  </tbody>\n",
       "</table>\n",
       "</div>"
      ],
      "text/plain": [
       "   record_ID      week  store_id  sku_id  total_price  base_price  \\\n",
       "0          1  17/01/11      8091  216418      99.0375    111.8625   \n",
       "1          2  17/01/11      8091  216419      99.0375     99.0375   \n",
       "2          3  17/01/11      8091  216425     133.9500    133.9500   \n",
       "3          4  17/01/11      8091  216233     133.9500    133.9500   \n",
       "4          5  17/01/11      8091  217390     141.0750    141.0750   \n",
       "\n",
       "   is_featured_sku  is_display_sku  units_sold  \n",
       "0                0               0          20  \n",
       "1                0               0          28  \n",
       "2                0               0          19  \n",
       "3                0               0          44  \n",
       "4                0               0          52  "
      ]
     },
     "execution_count": 176,
     "metadata": {},
     "output_type": "execute_result"
    }
   ],
   "source": [
    "train.head()"
   ]
  },
  {
   "cell_type": "code",
   "execution_count": 177,
   "metadata": {},
   "outputs": [
    {
     "data": {
      "text/html": [
       "<div>\n",
       "<style scoped>\n",
       "    .dataframe tbody tr th:only-of-type {\n",
       "        vertical-align: middle;\n",
       "    }\n",
       "\n",
       "    .dataframe tbody tr th {\n",
       "        vertical-align: top;\n",
       "    }\n",
       "\n",
       "    .dataframe thead th {\n",
       "        text-align: right;\n",
       "    }\n",
       "</style>\n",
       "<table border=\"1\" class=\"dataframe\">\n",
       "  <thead>\n",
       "    <tr style=\"text-align: right;\">\n",
       "      <th></th>\n",
       "      <th>record_ID</th>\n",
       "      <th>units_sold</th>\n",
       "    </tr>\n",
       "  </thead>\n",
       "  <tbody>\n",
       "    <tr>\n",
       "      <th>0</th>\n",
       "      <td>212645</td>\n",
       "      <td>0</td>\n",
       "    </tr>\n",
       "    <tr>\n",
       "      <th>1</th>\n",
       "      <td>212646</td>\n",
       "      <td>0</td>\n",
       "    </tr>\n",
       "    <tr>\n",
       "      <th>2</th>\n",
       "      <td>212647</td>\n",
       "      <td>0</td>\n",
       "    </tr>\n",
       "    <tr>\n",
       "      <th>3</th>\n",
       "      <td>212648</td>\n",
       "      <td>0</td>\n",
       "    </tr>\n",
       "    <tr>\n",
       "      <th>4</th>\n",
       "      <td>212649</td>\n",
       "      <td>0</td>\n",
       "    </tr>\n",
       "  </tbody>\n",
       "</table>\n",
       "</div>"
      ],
      "text/plain": [
       "   record_ID  units_sold\n",
       "0     212645           0\n",
       "1     212646           0\n",
       "2     212647           0\n",
       "3     212648           0\n",
       "4     212649           0"
      ]
     },
     "execution_count": 177,
     "metadata": {},
     "output_type": "execute_result"
    }
   ],
   "source": [
    "ss.head()"
   ]
  },
  {
   "cell_type": "markdown",
   "metadata": {},
   "source": [
    "## Analysis"
   ]
  },
  {
   "cell_type": "code",
   "execution_count": 178,
   "metadata": {},
   "outputs": [
    {
     "data": {
      "text/plain": [
       "(150150, 9)"
      ]
     },
     "execution_count": 178,
     "metadata": {},
     "output_type": "execute_result"
    }
   ],
   "source": [
    "train.shape"
   ]
  },
  {
   "cell_type": "code",
   "execution_count": 179,
   "metadata": {},
   "outputs": [
    {
     "data": {
      "text/html": [
       "<div>\n",
       "<style scoped>\n",
       "    .dataframe tbody tr th:only-of-type {\n",
       "        vertical-align: middle;\n",
       "    }\n",
       "\n",
       "    .dataframe tbody tr th {\n",
       "        vertical-align: top;\n",
       "    }\n",
       "\n",
       "    .dataframe thead th {\n",
       "        text-align: right;\n",
       "    }\n",
       "</style>\n",
       "<table border=\"1\" class=\"dataframe\">\n",
       "  <thead>\n",
       "    <tr style=\"text-align: right;\">\n",
       "      <th></th>\n",
       "      <th>record_ID</th>\n",
       "      <th>store_id</th>\n",
       "      <th>sku_id</th>\n",
       "      <th>total_price</th>\n",
       "      <th>base_price</th>\n",
       "      <th>is_featured_sku</th>\n",
       "      <th>is_display_sku</th>\n",
       "      <th>units_sold</th>\n",
       "    </tr>\n",
       "  </thead>\n",
       "  <tbody>\n",
       "    <tr>\n",
       "      <th>count</th>\n",
       "      <td>150150.000000</td>\n",
       "      <td>150150.000000</td>\n",
       "      <td>150150.000000</td>\n",
       "      <td>150149.000000</td>\n",
       "      <td>150150.000000</td>\n",
       "      <td>150150.000000</td>\n",
       "      <td>150150.000000</td>\n",
       "      <td>150150.000000</td>\n",
       "    </tr>\n",
       "    <tr>\n",
       "      <th>mean</th>\n",
       "      <td>106271.555504</td>\n",
       "      <td>9199.422511</td>\n",
       "      <td>254761.132468</td>\n",
       "      <td>206.626751</td>\n",
       "      <td>219.425927</td>\n",
       "      <td>0.095611</td>\n",
       "      <td>0.133200</td>\n",
       "      <td>51.674206</td>\n",
       "    </tr>\n",
       "    <tr>\n",
       "      <th>std</th>\n",
       "      <td>61386.037861</td>\n",
       "      <td>615.591445</td>\n",
       "      <td>85547.306447</td>\n",
       "      <td>103.308516</td>\n",
       "      <td>110.961712</td>\n",
       "      <td>0.294058</td>\n",
       "      <td>0.339792</td>\n",
       "      <td>60.207904</td>\n",
       "    </tr>\n",
       "    <tr>\n",
       "      <th>min</th>\n",
       "      <td>1.000000</td>\n",
       "      <td>8023.000000</td>\n",
       "      <td>216233.000000</td>\n",
       "      <td>41.325000</td>\n",
       "      <td>61.275000</td>\n",
       "      <td>0.000000</td>\n",
       "      <td>0.000000</td>\n",
       "      <td>1.000000</td>\n",
       "    </tr>\n",
       "    <tr>\n",
       "      <th>25%</th>\n",
       "      <td>53111.250000</td>\n",
       "      <td>8562.000000</td>\n",
       "      <td>217217.000000</td>\n",
       "      <td>130.387500</td>\n",
       "      <td>133.237500</td>\n",
       "      <td>0.000000</td>\n",
       "      <td>0.000000</td>\n",
       "      <td>20.000000</td>\n",
       "    </tr>\n",
       "    <tr>\n",
       "      <th>50%</th>\n",
       "      <td>106226.500000</td>\n",
       "      <td>9371.000000</td>\n",
       "      <td>222087.000000</td>\n",
       "      <td>198.075000</td>\n",
       "      <td>205.912500</td>\n",
       "      <td>0.000000</td>\n",
       "      <td>0.000000</td>\n",
       "      <td>35.000000</td>\n",
       "    </tr>\n",
       "    <tr>\n",
       "      <th>75%</th>\n",
       "      <td>159452.750000</td>\n",
       "      <td>9731.000000</td>\n",
       "      <td>245338.000000</td>\n",
       "      <td>233.700000</td>\n",
       "      <td>234.412500</td>\n",
       "      <td>0.000000</td>\n",
       "      <td>0.000000</td>\n",
       "      <td>62.000000</td>\n",
       "    </tr>\n",
       "    <tr>\n",
       "      <th>max</th>\n",
       "      <td>212644.000000</td>\n",
       "      <td>9984.000000</td>\n",
       "      <td>679023.000000</td>\n",
       "      <td>562.162500</td>\n",
       "      <td>562.162500</td>\n",
       "      <td>1.000000</td>\n",
       "      <td>1.000000</td>\n",
       "      <td>2876.000000</td>\n",
       "    </tr>\n",
       "  </tbody>\n",
       "</table>\n",
       "</div>"
      ],
      "text/plain": [
       "           record_ID       store_id         sku_id    total_price  \\\n",
       "count  150150.000000  150150.000000  150150.000000  150149.000000   \n",
       "mean   106271.555504    9199.422511  254761.132468     206.626751   \n",
       "std     61386.037861     615.591445   85547.306447     103.308516   \n",
       "min         1.000000    8023.000000  216233.000000      41.325000   \n",
       "25%     53111.250000    8562.000000  217217.000000     130.387500   \n",
       "50%    106226.500000    9371.000000  222087.000000     198.075000   \n",
       "75%    159452.750000    9731.000000  245338.000000     233.700000   \n",
       "max    212644.000000    9984.000000  679023.000000     562.162500   \n",
       "\n",
       "          base_price  is_featured_sku  is_display_sku     units_sold  \n",
       "count  150150.000000    150150.000000   150150.000000  150150.000000  \n",
       "mean      219.425927         0.095611        0.133200      51.674206  \n",
       "std       110.961712         0.294058        0.339792      60.207904  \n",
       "min        61.275000         0.000000        0.000000       1.000000  \n",
       "25%       133.237500         0.000000        0.000000      20.000000  \n",
       "50%       205.912500         0.000000        0.000000      35.000000  \n",
       "75%       234.412500         0.000000        0.000000      62.000000  \n",
       "max       562.162500         1.000000        1.000000    2876.000000  "
      ]
     },
     "execution_count": 179,
     "metadata": {},
     "output_type": "execute_result"
    }
   ],
   "source": [
    "train.describe()"
   ]
  },
  {
   "cell_type": "code",
   "execution_count": 180,
   "metadata": {},
   "outputs": [
    {
     "name": "stdout",
     "output_type": "stream",
     "text": [
      "<class 'pandas.core.frame.DataFrame'>\n",
      "RangeIndex: 150150 entries, 0 to 150149\n",
      "Data columns (total 9 columns):\n",
      "record_ID          150150 non-null int64\n",
      "week               150150 non-null object\n",
      "store_id           150150 non-null int64\n",
      "sku_id             150150 non-null int64\n",
      "total_price        150149 non-null float64\n",
      "base_price         150150 non-null float64\n",
      "is_featured_sku    150150 non-null int64\n",
      "is_display_sku     150150 non-null int64\n",
      "units_sold         150150 non-null int64\n",
      "dtypes: float64(2), int64(6), object(1)\n",
      "memory usage: 10.3+ MB\n"
     ]
    }
   ],
   "source": [
    "train.info()"
   ]
  },
  {
   "cell_type": "code",
   "execution_count": 181,
   "metadata": {},
   "outputs": [
    {
     "data": {
      "text/plain": [
       "record_ID          0\n",
       "week               0\n",
       "store_id           0\n",
       "sku_id             0\n",
       "total_price        1\n",
       "base_price         0\n",
       "is_featured_sku    0\n",
       "is_display_sku     0\n",
       "units_sold         0\n",
       "dtype: int64"
      ]
     },
     "execution_count": 181,
     "metadata": {},
     "output_type": "execute_result"
    }
   ],
   "source": [
    "train.isnull().sum()"
   ]
  },
  {
   "cell_type": "code",
   "execution_count": 182,
   "metadata": {},
   "outputs": [
    {
     "data": {
      "text/plain": [
       "76"
      ]
     },
     "execution_count": 182,
     "metadata": {},
     "output_type": "execute_result"
    }
   ],
   "source": [
    "len(train['store_id'].unique())"
   ]
  },
  {
   "cell_type": "markdown",
   "metadata": {},
   "source": [
    "Total Stores are 76."
   ]
  },
  {
   "cell_type": "code",
   "execution_count": 183,
   "metadata": {},
   "outputs": [
    {
     "data": {
      "text/plain": [
       "28"
      ]
     },
     "execution_count": 183,
     "metadata": {},
     "output_type": "execute_result"
    }
   ],
   "source": [
    "len(train['sku_id'].unique())"
   ]
  },
  {
   "cell_type": "markdown",
   "metadata": {},
   "source": [
    "Total Products are 28."
   ]
  },
  {
   "cell_type": "code",
   "execution_count": 184,
   "metadata": {},
   "outputs": [
    {
     "data": {
      "text/plain": [
       "0    0.904389\n",
       "1    0.095611\n",
       "Name: is_featured_sku, dtype: float64"
      ]
     },
     "execution_count": 184,
     "metadata": {},
     "output_type": "execute_result"
    }
   ],
   "source": [
    "train['is_featured_sku'].value_counts(normalize = True)"
   ]
  },
  {
   "cell_type": "code",
   "execution_count": 185,
   "metadata": {},
   "outputs": [
    {
     "data": {
      "text/plain": [
       "0    0.8668\n",
       "1    0.1332\n",
       "Name: is_display_sku, dtype: float64"
      ]
     },
     "execution_count": 185,
     "metadata": {},
     "output_type": "execute_result"
    }
   ],
   "source": [
    "train['is_display_sku'].value_counts(normalize = True)"
   ]
  },
  {
   "cell_type": "code",
   "execution_count": 186,
   "metadata": {},
   "outputs": [],
   "source": [
    "train.week = pd.to_datetime(train.week) \n",
    "train.index = train.week \n",
    "# train = train.resample('D').mean() "
   ]
  },
  {
   "cell_type": "code",
   "execution_count": 187,
   "metadata": {},
   "outputs": [
    {
     "data": {
      "text/plain": [
       "<matplotlib.axes._subplots.AxesSubplot at 0x19710e2f710>"
      ]
     },
     "execution_count": 187,
     "metadata": {},
     "output_type": "execute_result"
    },
    {
     "data": {
      "image/png": "[encoded data removed]",
      "text/plain": [
       "<Figure size 1080x576 with 1 Axes>"
      ]
     },
     "metadata": {},
     "output_type": "display_data"
    }
   ],
   "source": [
    "train[train.store_id == 8091 ].units_sold.plot(figsize=(15,8), title = 'Units Sold', fontsize=14)"
   ]
  },
  {
   "cell_type": "code",
   "execution_count": 188,
   "metadata": {},
   "outputs": [
    {
     "data": {
      "text/plain": [
       "<matplotlib.axes._subplots.AxesSubplot at 0x1970971cb00>"
      ]
     },
     "execution_count": 188,
     "metadata": {},
     "output_type": "execute_result"
    },
    {
     "data": {
      "image/png": "[encoded data removed]",
      "text/plain": [
       "<Figure size 432x288 with 1 Axes>"
      ]
     },
     "metadata": {},
     "output_type": "display_data"
    }
   ],
   "source": [
    "sns.distplot(train['units_sold'])"
   ]
  },
  {
   "cell_type": "code",
   "execution_count": 189,
   "metadata": {},
   "outputs": [
    {
     "data": {
      "text/plain": [
       "<matplotlib.axes._subplots.AxesSubplot at 0x197057840f0>"
      ]
     },
     "execution_count": 189,
     "metadata": {},
     "output_type": "execute_result"
    },
    {
     "data": {
      "image/png": "[encoded data removed]",
      "text/plain": [
       "<Figure size 432x288 with 1 Axes>"
      ]
     },
     "metadata": {},
     "output_type": "display_data"
    }
   ],
   "source": [
    "np.log(train['units_sold']).hist()"
   ]
  },
  {
   "cell_type": "code",
   "execution_count": 190,
   "metadata": {},
   "outputs": [],
   "source": [
    "# train.groupby(['store_id', 'sku_id']).count()"
   ]
  },
  {
   "cell_type": "code",
   "execution_count": 191,
   "metadata": {},
   "outputs": [],
   "source": [
    "# train.groupby(['store_id'])[['units_sold']].mean().plot()"
   ]
  },
  {
   "cell_type": "code",
   "execution_count": 192,
   "metadata": {},
   "outputs": [],
   "source": [
    "# train.groupby(['sku_id'])[['units_sold']].mean().plot()"
   ]
  },
  {
   "cell_type": "code",
   "execution_count": 193,
   "metadata": {},
   "outputs": [],
   "source": [
    "# train.groupby(['total_price'])[['units_sold']].mean().plot()"
   ]
  },
  {
   "cell_type": "code",
   "execution_count": 194,
   "metadata": {},
   "outputs": [],
   "source": [
    "# train.groupby(['base_price'])[['units_sold']].mean().plot()"
   ]
  },
  {
   "cell_type": "markdown",
   "metadata": {},
   "source": [
    "## Feature Engineering"
   ]
  },
  {
   "cell_type": "code",
   "execution_count": 195,
   "metadata": {},
   "outputs": [
    {
     "data": {
      "text/plain": [
       "week\n",
       "2013-04-23    469.5375\n",
       "Name: base_price, dtype: float64"
      ]
     },
     "execution_count": 195,
     "metadata": {},
     "output_type": "execute_result"
    }
   ],
   "source": [
    "train[train['total_price'].isnull()]['base_price']"
   ]
  },
  {
   "cell_type": "code",
   "execution_count": 196,
   "metadata": {},
   "outputs": [],
   "source": [
    "temp = train[train['total_price'].isnull()]['base_price']\n",
    "train['total_price'] = train['total_price'].fillna(temp)"
   ]
  },
  {
   "cell_type": "code",
   "execution_count": 197,
   "metadata": {},
   "outputs": [],
   "source": [
    "test['units_sold'] = -1\n",
    "\n",
    "train['label'] = 'train'\n",
    "test['label'] = 'test'\n",
    "\n",
    "final = pd.concat([train,test], sort = False)\n",
    "final['week'] = pd.to_datetime(final.week)"
   ]
  },
  {
   "cell_type": "code",
   "execution_count": 198,
   "metadata": {},
   "outputs": [
    {
     "data": {
      "text/html": [
       "<div>\n",
       "<style scoped>\n",
       "    .dataframe tbody tr th:only-of-type {\n",
       "        vertical-align: middle;\n",
       "    }\n",
       "\n",
       "    .dataframe tbody tr th {\n",
       "        vertical-align: top;\n",
       "    }\n",
       "\n",
       "    .dataframe thead th {\n",
       "        text-align: right;\n",
       "    }\n",
       "</style>\n",
       "<table border=\"1\" class=\"dataframe\">\n",
       "  <thead>\n",
       "    <tr style=\"text-align: right;\">\n",
       "      <th></th>\n",
       "      <th>record_ID</th>\n",
       "      <th>week</th>\n",
       "      <th>store_id</th>\n",
       "      <th>sku_id</th>\n",
       "      <th>total_price</th>\n",
       "      <th>base_price</th>\n",
       "      <th>is_featured_sku</th>\n",
       "      <th>is_display_sku</th>\n",
       "      <th>units_sold</th>\n",
       "      <th>label</th>\n",
       "    </tr>\n",
       "  </thead>\n",
       "  <tbody>\n",
       "    <tr>\n",
       "      <th>2011-01-17 00:00:00</th>\n",
       "      <td>1</td>\n",
       "      <td>2011-01-17</td>\n",
       "      <td>8091</td>\n",
       "      <td>216418</td>\n",
       "      <td>99.0375</td>\n",
       "      <td>111.8625</td>\n",
       "      <td>0</td>\n",
       "      <td>0</td>\n",
       "      <td>20</td>\n",
       "      <td>train</td>\n",
       "    </tr>\n",
       "    <tr>\n",
       "      <th>2011-01-17 00:00:00</th>\n",
       "      <td>2</td>\n",
       "      <td>2011-01-17</td>\n",
       "      <td>8091</td>\n",
       "      <td>216419</td>\n",
       "      <td>99.0375</td>\n",
       "      <td>99.0375</td>\n",
       "      <td>0</td>\n",
       "      <td>0</td>\n",
       "      <td>28</td>\n",
       "      <td>train</td>\n",
       "    </tr>\n",
       "    <tr>\n",
       "      <th>2011-01-17 00:00:00</th>\n",
       "      <td>3</td>\n",
       "      <td>2011-01-17</td>\n",
       "      <td>8091</td>\n",
       "      <td>216425</td>\n",
       "      <td>133.9500</td>\n",
       "      <td>133.9500</td>\n",
       "      <td>0</td>\n",
       "      <td>0</td>\n",
       "      <td>19</td>\n",
       "      <td>train</td>\n",
       "    </tr>\n",
       "    <tr>\n",
       "      <th>2011-01-17 00:00:00</th>\n",
       "      <td>4</td>\n",
       "      <td>2011-01-17</td>\n",
       "      <td>8091</td>\n",
       "      <td>216233</td>\n",
       "      <td>133.9500</td>\n",
       "      <td>133.9500</td>\n",
       "      <td>0</td>\n",
       "      <td>0</td>\n",
       "      <td>44</td>\n",
       "      <td>train</td>\n",
       "    </tr>\n",
       "    <tr>\n",
       "      <th>2011-01-17 00:00:00</th>\n",
       "      <td>5</td>\n",
       "      <td>2011-01-17</td>\n",
       "      <td>8091</td>\n",
       "      <td>217390</td>\n",
       "      <td>141.0750</td>\n",
       "      <td>141.0750</td>\n",
       "      <td>0</td>\n",
       "      <td>0</td>\n",
       "      <td>52</td>\n",
       "      <td>train</td>\n",
       "    </tr>\n",
       "  </tbody>\n",
       "</table>\n",
       "</div>"
      ],
      "text/plain": [
       "                     record_ID       week  store_id  sku_id  total_price  \\\n",
       "2011-01-17 00:00:00          1 2011-01-17      8091  216418      99.0375   \n",
       "2011-01-17 00:00:00          2 2011-01-17      8091  216419      99.0375   \n",
       "2011-01-17 00:00:00          3 2011-01-17      8091  216425     133.9500   \n",
       "2011-01-17 00:00:00          4 2011-01-17      8091  216233     133.9500   \n",
       "2011-01-17 00:00:00          5 2011-01-17      8091  217390     141.0750   \n",
       "\n",
       "                     base_price  is_featured_sku  is_display_sku  units_sold  \\\n",
       "2011-01-17 00:00:00    111.8625                0               0          20   \n",
       "2011-01-17 00:00:00     99.0375                0               0          28   \n",
       "2011-01-17 00:00:00    133.9500                0               0          19   \n",
       "2011-01-17 00:00:00    133.9500                0               0          44   \n",
       "2011-01-17 00:00:00    141.0750                0               0          52   \n",
       "\n",
       "                     label  \n",
       "2011-01-17 00:00:00  train  \n",
       "2011-01-17 00:00:00  train  \n",
       "2011-01-17 00:00:00  train  \n",
       "2011-01-17 00:00:00  train  \n",
       "2011-01-17 00:00:00  train  "
      ]
     },
     "execution_count": 198,
     "metadata": {},
     "output_type": "execute_result"
    }
   ],
   "source": [
    "final.head()"
   ]
  },
  {
   "cell_type": "code",
   "execution_count": 200,
   "metadata": {},
   "outputs": [],
   "source": [
    "final.insert(0,'month',final['week'].apply(lambda x:x.month))\n",
    "final.insert(0,'day',final['week'].apply(lambda x:x.day))\n",
    "final.insert(0,'year',final['week'].apply(lambda x:x.year))\n",
    "\n",
    "final.insert(0, 'month_start', final['week'].apply(lambda x: 1 if x.is_month_start else 0 ) )\n",
    "final.insert(0, 'month_end', final['week'].apply(lambda x: 1 if x.is_month_end else 0 ) )\n",
    "\n",
    "final.insert(0,'week_start',final['day'].apply(lambda x: 1 if x == 0 or x ==1 else 0 ) )\n",
    "final.insert(0,'week_end',final['day'].apply(lambda x: 1 if x == 5 or x ==6 else 0 ) )\n",
    "\n",
    "final.insert(0,'quarter_start',final['week'].apply(lambda x: 1 if x.is_quarter_start else 0 ) )\n",
    "final.insert(0,'quarter_end',final['week'].apply(lambda x: 1 if x.is_quarter_end else 0 ) )\n",
    "\n",
    "final.insert(0,'year_start',final['week'].apply(lambda x: 1 if x.is_year_start else 0 ) )\n",
    "final.insert(0,'year_end',final['week'].apply(lambda x: 1 if x.is_year_end else 0 ) )\n",
    "\n",
    "final.insert(0,'week_number', final['week'].apply(lambda x:x.isocalendar()[1]))"
   ]
  },
  {
   "cell_type": "code",
   "execution_count": 205,
   "metadata": {},
   "outputs": [
    {
     "data": {
      "image/png": "[encoded data removed]",
      "text/plain": [
       "<Figure size 1800x720 with 2 Axes>"
      ]
     },
     "metadata": {},
     "output_type": "display_data"
    }
   ],
   "source": [
    "plt.figure(figsize = (25,10))\n",
    "sns.heatmap(final.corr(), annot = True)\n",
    "plt.show()"
   ]
  },
  {
   "cell_type": "code",
   "execution_count": 206,
   "metadata": {},
   "outputs": [],
   "source": [
    "final1 = final.copy()"
   ]
  },
  {
   "cell_type": "code",
   "execution_count": 207,
   "metadata": {},
   "outputs": [],
   "source": [
    "final1.reset_index(inplace = True)\n",
    "final1 = final1.drop('index', axis = 1)"
   ]
  },
  {
   "cell_type": "code",
   "execution_count": 208,
   "metadata": {},
   "outputs": [
    {
     "data": {
      "text/html": [
       "<div>\n",
       "<style scoped>\n",
       "    .dataframe tbody tr th:only-of-type {\n",
       "        vertical-align: middle;\n",
       "    }\n",
       "\n",
       "    .dataframe tbody tr th {\n",
       "        vertical-align: top;\n",
       "    }\n",
       "\n",
       "    .dataframe thead th {\n",
       "        text-align: right;\n",
       "    }\n",
       "</style>\n",
       "<table border=\"1\" class=\"dataframe\">\n",
       "  <thead>\n",
       "    <tr style=\"text-align: right;\">\n",
       "      <th></th>\n",
       "      <th>week_number</th>\n",
       "      <th>year_end</th>\n",
       "      <th>year_start</th>\n",
       "      <th>quarter_end</th>\n",
       "      <th>quarter_start</th>\n",
       "      <th>week_end</th>\n",
       "      <th>week_start</th>\n",
       "      <th>month_end</th>\n",
       "      <th>month_start</th>\n",
       "      <th>year</th>\n",
       "      <th>...</th>\n",
       "      <th>record_ID</th>\n",
       "      <th>week</th>\n",
       "      <th>store_id</th>\n",
       "      <th>sku_id</th>\n",
       "      <th>total_price</th>\n",
       "      <th>base_price</th>\n",
       "      <th>is_featured_sku</th>\n",
       "      <th>is_display_sku</th>\n",
       "      <th>units_sold</th>\n",
       "      <th>label</th>\n",
       "    </tr>\n",
       "  </thead>\n",
       "  <tbody>\n",
       "    <tr>\n",
       "      <th>0</th>\n",
       "      <td>3</td>\n",
       "      <td>0</td>\n",
       "      <td>0</td>\n",
       "      <td>0</td>\n",
       "      <td>0</td>\n",
       "      <td>0</td>\n",
       "      <td>0</td>\n",
       "      <td>0</td>\n",
       "      <td>0</td>\n",
       "      <td>2011</td>\n",
       "      <td>...</td>\n",
       "      <td>1</td>\n",
       "      <td>2011-01-17</td>\n",
       "      <td>8091</td>\n",
       "      <td>216418</td>\n",
       "      <td>99.0375</td>\n",
       "      <td>111.8625</td>\n",
       "      <td>0</td>\n",
       "      <td>0</td>\n",
       "      <td>20</td>\n",
       "      <td>train</td>\n",
       "    </tr>\n",
       "    <tr>\n",
       "      <th>1</th>\n",
       "      <td>3</td>\n",
       "      <td>0</td>\n",
       "      <td>0</td>\n",
       "      <td>0</td>\n",
       "      <td>0</td>\n",
       "      <td>0</td>\n",
       "      <td>0</td>\n",
       "      <td>0</td>\n",
       "      <td>0</td>\n",
       "      <td>2011</td>\n",
       "      <td>...</td>\n",
       "      <td>2</td>\n",
       "      <td>2011-01-17</td>\n",
       "      <td>8091</td>\n",
       "      <td>216419</td>\n",
       "      <td>99.0375</td>\n",
       "      <td>99.0375</td>\n",
       "      <td>0</td>\n",
       "      <td>0</td>\n",
       "      <td>28</td>\n",
       "      <td>train</td>\n",
       "    </tr>\n",
       "    <tr>\n",
       "      <th>2</th>\n",
       "      <td>3</td>\n",
       "      <td>0</td>\n",
       "      <td>0</td>\n",
       "      <td>0</td>\n",
       "      <td>0</td>\n",
       "      <td>0</td>\n",
       "      <td>0</td>\n",
       "      <td>0</td>\n",
       "      <td>0</td>\n",
       "      <td>2011</td>\n",
       "      <td>...</td>\n",
       "      <td>3</td>\n",
       "      <td>2011-01-17</td>\n",
       "      <td>8091</td>\n",
       "      <td>216425</td>\n",
       "      <td>133.9500</td>\n",
       "      <td>133.9500</td>\n",
       "      <td>0</td>\n",
       "      <td>0</td>\n",
       "      <td>19</td>\n",
       "      <td>train</td>\n",
       "    </tr>\n",
       "    <tr>\n",
       "      <th>3</th>\n",
       "      <td>3</td>\n",
       "      <td>0</td>\n",
       "      <td>0</td>\n",
       "      <td>0</td>\n",
       "      <td>0</td>\n",
       "      <td>0</td>\n",
       "      <td>0</td>\n",
       "      <td>0</td>\n",
       "      <td>0</td>\n",
       "      <td>2011</td>\n",
       "      <td>...</td>\n",
       "      <td>4</td>\n",
       "      <td>2011-01-17</td>\n",
       "      <td>8091</td>\n",
       "      <td>216233</td>\n",
       "      <td>133.9500</td>\n",
       "      <td>133.9500</td>\n",
       "      <td>0</td>\n",
       "      <td>0</td>\n",
       "      <td>44</td>\n",
       "      <td>train</td>\n",
       "    </tr>\n",
       "    <tr>\n",
       "      <th>4</th>\n",
       "      <td>3</td>\n",
       "      <td>0</td>\n",
       "      <td>0</td>\n",
       "      <td>0</td>\n",
       "      <td>0</td>\n",
       "      <td>0</td>\n",
       "      <td>0</td>\n",
       "      <td>0</td>\n",
       "      <td>0</td>\n",
       "      <td>2011</td>\n",
       "      <td>...</td>\n",
       "      <td>5</td>\n",
       "      <td>2011-01-17</td>\n",
       "      <td>8091</td>\n",
       "      <td>217390</td>\n",
       "      <td>141.0750</td>\n",
       "      <td>141.0750</td>\n",
       "      <td>0</td>\n",
       "      <td>0</td>\n",
       "      <td>52</td>\n",
       "      <td>train</td>\n",
       "    </tr>\n",
       "  </tbody>\n",
       "</table>\n",
       "<p>5 rows × 22 columns</p>\n",
       "</div>"
      ],
      "text/plain": [
       "   week_number  year_end  year_start  quarter_end  quarter_start  week_end  \\\n",
       "0            3         0           0            0              0         0   \n",
       "1            3         0           0            0              0         0   \n",
       "2            3         0           0            0              0         0   \n",
       "3            3         0           0            0              0         0   \n",
       "4            3         0           0            0              0         0   \n",
       "\n",
       "   week_start  month_end  month_start  year  ...  record_ID       week  \\\n",
       "0           0          0            0  2011  ...          1 2011-01-17   \n",
       "1           0          0            0  2011  ...          2 2011-01-17   \n",
       "2           0          0            0  2011  ...          3 2011-01-17   \n",
       "3           0          0            0  2011  ...          4 2011-01-17   \n",
       "4           0          0            0  2011  ...          5 2011-01-17   \n",
       "\n",
       "   store_id  sku_id  total_price  base_price  is_featured_sku  is_display_sku  \\\n",
       "0      8091  216418      99.0375    111.8625                0               0   \n",
       "1      8091  216419      99.0375     99.0375                0               0   \n",
       "2      8091  216425     133.9500    133.9500                0               0   \n",
       "3      8091  216233     133.9500    133.9500                0               0   \n",
       "4      8091  217390     141.0750    141.0750                0               0   \n",
       "\n",
       "   units_sold  label  \n",
       "0          20  train  \n",
       "1          28  train  \n",
       "2          19  train  \n",
       "3          44  train  \n",
       "4          52  train  \n",
       "\n",
       "[5 rows x 22 columns]"
      ]
     },
     "execution_count": 208,
     "metadata": {},
     "output_type": "execute_result"
    }
   ],
   "source": [
    "final1.head()"
   ]
  },
  {
   "cell_type": "code",
   "execution_count": 209,
   "metadata": {},
   "outputs": [
    {
     "data": {
      "text/plain": [
       "Index(['week_number', 'year_end', 'year_start', 'quarter_end', 'quarter_start',\n",
       "       'week_end', 'week_start', 'month_end', 'month_start', 'year', 'day',\n",
       "       'month', 'record_ID', 'week', 'store_id', 'sku_id', 'total_price',\n",
       "       'base_price', 'is_featured_sku', 'is_display_sku', 'units_sold',\n",
       "       'label'],\n",
       "      dtype='object')"
      ]
     },
     "execution_count": 209,
     "metadata": {},
     "output_type": "execute_result"
    }
   ],
   "source": [
    "final1.columns"
   ]
  },
  {
   "cell_type": "code",
   "execution_count": 210,
   "metadata": {},
   "outputs": [],
   "source": [
    "columns = ['day','month']\n",
    "for col in columns:\n",
    "    final1[col+'_sin'] = np.sin((2*np.pi*final1[col])/max(final1[col]))\n",
    "    final1[col+'_cos'] = np.cos((2*np.pi*final1[col])/max(final1[col]))\n",
    "# final1 = final1.drop(columns, axis = 1)"
   ]
  },
  {
   "cell_type": "code",
   "execution_count": 211,
   "metadata": {},
   "outputs": [
    {
     "data": {
      "text/html": [
       "<div>\n",
       "<style scoped>\n",
       "    .dataframe tbody tr th:only-of-type {\n",
       "        vertical-align: middle;\n",
       "    }\n",
       "\n",
       "    .dataframe tbody tr th {\n",
       "        vertical-align: top;\n",
       "    }\n",
       "\n",
       "    .dataframe thead th {\n",
       "        text-align: right;\n",
       "    }\n",
       "</style>\n",
       "<table border=\"1\" class=\"dataframe\">\n",
       "  <thead>\n",
       "    <tr style=\"text-align: right;\">\n",
       "      <th></th>\n",
       "      <th>week_number</th>\n",
       "      <th>year_end</th>\n",
       "      <th>year_start</th>\n",
       "      <th>quarter_end</th>\n",
       "      <th>quarter_start</th>\n",
       "      <th>week_end</th>\n",
       "      <th>week_start</th>\n",
       "      <th>month_end</th>\n",
       "      <th>month_start</th>\n",
       "      <th>year</th>\n",
       "      <th>...</th>\n",
       "      <th>total_price</th>\n",
       "      <th>base_price</th>\n",
       "      <th>is_featured_sku</th>\n",
       "      <th>is_display_sku</th>\n",
       "      <th>units_sold</th>\n",
       "      <th>label</th>\n",
       "      <th>day_sin</th>\n",
       "      <th>day_cos</th>\n",
       "      <th>month_sin</th>\n",
       "      <th>month_cos</th>\n",
       "    </tr>\n",
       "  </thead>\n",
       "  <tbody>\n",
       "    <tr>\n",
       "      <th>0</th>\n",
       "      <td>3</td>\n",
       "      <td>0</td>\n",
       "      <td>0</td>\n",
       "      <td>0</td>\n",
       "      <td>0</td>\n",
       "      <td>0</td>\n",
       "      <td>0</td>\n",
       "      <td>0</td>\n",
       "      <td>0</td>\n",
       "      <td>2011</td>\n",
       "      <td>...</td>\n",
       "      <td>99.0375</td>\n",
       "      <td>111.8625</td>\n",
       "      <td>0</td>\n",
       "      <td>0</td>\n",
       "      <td>20</td>\n",
       "      <td>train</td>\n",
       "      <td>-0.299363</td>\n",
       "      <td>-0.954139</td>\n",
       "      <td>0.5</td>\n",
       "      <td>0.866025</td>\n",
       "    </tr>\n",
       "    <tr>\n",
       "      <th>1</th>\n",
       "      <td>3</td>\n",
       "      <td>0</td>\n",
       "      <td>0</td>\n",
       "      <td>0</td>\n",
       "      <td>0</td>\n",
       "      <td>0</td>\n",
       "      <td>0</td>\n",
       "      <td>0</td>\n",
       "      <td>0</td>\n",
       "      <td>2011</td>\n",
       "      <td>...</td>\n",
       "      <td>99.0375</td>\n",
       "      <td>99.0375</td>\n",
       "      <td>0</td>\n",
       "      <td>0</td>\n",
       "      <td>28</td>\n",
       "      <td>train</td>\n",
       "      <td>-0.299363</td>\n",
       "      <td>-0.954139</td>\n",
       "      <td>0.5</td>\n",
       "      <td>0.866025</td>\n",
       "    </tr>\n",
       "    <tr>\n",
       "      <th>2</th>\n",
       "      <td>3</td>\n",
       "      <td>0</td>\n",
       "      <td>0</td>\n",
       "      <td>0</td>\n",
       "      <td>0</td>\n",
       "      <td>0</td>\n",
       "      <td>0</td>\n",
       "      <td>0</td>\n",
       "      <td>0</td>\n",
       "      <td>2011</td>\n",
       "      <td>...</td>\n",
       "      <td>133.9500</td>\n",
       "      <td>133.9500</td>\n",
       "      <td>0</td>\n",
       "      <td>0</td>\n",
       "      <td>19</td>\n",
       "      <td>train</td>\n",
       "      <td>-0.299363</td>\n",
       "      <td>-0.954139</td>\n",
       "      <td>0.5</td>\n",
       "      <td>0.866025</td>\n",
       "    </tr>\n",
       "    <tr>\n",
       "      <th>3</th>\n",
       "      <td>3</td>\n",
       "      <td>0</td>\n",
       "      <td>0</td>\n",
       "      <td>0</td>\n",
       "      <td>0</td>\n",
       "      <td>0</td>\n",
       "      <td>0</td>\n",
       "      <td>0</td>\n",
       "      <td>0</td>\n",
       "      <td>2011</td>\n",
       "      <td>...</td>\n",
       "      <td>133.9500</td>\n",
       "      <td>133.9500</td>\n",
       "      <td>0</td>\n",
       "      <td>0</td>\n",
       "      <td>44</td>\n",
       "      <td>train</td>\n",
       "      <td>-0.299363</td>\n",
       "      <td>-0.954139</td>\n",
       "      <td>0.5</td>\n",
       "      <td>0.866025</td>\n",
       "    </tr>\n",
       "    <tr>\n",
       "      <th>4</th>\n",
       "      <td>3</td>\n",
       "      <td>0</td>\n",
       "      <td>0</td>\n",
       "      <td>0</td>\n",
       "      <td>0</td>\n",
       "      <td>0</td>\n",
       "      <td>0</td>\n",
       "      <td>0</td>\n",
       "      <td>0</td>\n",
       "      <td>2011</td>\n",
       "      <td>...</td>\n",
       "      <td>141.0750</td>\n",
       "      <td>141.0750</td>\n",
       "      <td>0</td>\n",
       "      <td>0</td>\n",
       "      <td>52</td>\n",
       "      <td>train</td>\n",
       "      <td>-0.299363</td>\n",
       "      <td>-0.954139</td>\n",
       "      <td>0.5</td>\n",
       "      <td>0.866025</td>\n",
       "    </tr>\n",
       "  </tbody>\n",
       "</table>\n",
       "<p>5 rows × 26 columns</p>\n",
       "</div>"
      ],
      "text/plain": [
       "   week_number  year_end  year_start  quarter_end  quarter_start  week_end  \\\n",
       "0            3         0           0            0              0         0   \n",
       "1            3         0           0            0              0         0   \n",
       "2            3         0           0            0              0         0   \n",
       "3            3         0           0            0              0         0   \n",
       "4            3         0           0            0              0         0   \n",
       "\n",
       "   week_start  month_end  month_start  year  ...  total_price  base_price  \\\n",
       "0           0          0            0  2011  ...      99.0375    111.8625   \n",
       "1           0          0            0  2011  ...      99.0375     99.0375   \n",
       "2           0          0            0  2011  ...     133.9500    133.9500   \n",
       "3           0          0            0  2011  ...     133.9500    133.9500   \n",
       "4           0          0            0  2011  ...     141.0750    141.0750   \n",
       "\n",
       "   is_featured_sku is_display_sku  units_sold  label   day_sin   day_cos  \\\n",
       "0                0              0          20  train -0.299363 -0.954139   \n",
       "1                0              0          28  train -0.299363 -0.954139   \n",
       "2                0              0          19  train -0.299363 -0.954139   \n",
       "3                0              0          44  train -0.299363 -0.954139   \n",
       "4                0              0          52  train -0.299363 -0.954139   \n",
       "\n",
       "   month_sin  month_cos  \n",
       "0        0.5   0.866025  \n",
       "1        0.5   0.866025  \n",
       "2        0.5   0.866025  \n",
       "3        0.5   0.866025  \n",
       "4        0.5   0.866025  \n",
       "\n",
       "[5 rows x 26 columns]"
      ]
     },
     "execution_count": 211,
     "metadata": {},
     "output_type": "execute_result"
    }
   ],
   "source": [
    "final1.head()"
   ]
  },
  {
   "cell_type": "code",
   "execution_count": 212,
   "metadata": {},
   "outputs": [],
   "source": [
    "from sklearn.preprocessing import LabelEncoder\n",
    "from sklearn.preprocessing import OneHotEncoder\n",
    "\n",
    "col = ['year']\n",
    "lbl = LabelEncoder()\n",
    "for c in col:\n",
    "    final1[c] = lbl.fit_transform(final1[c])\n",
    "    dumy = pd.get_dummies(final1[c], prefix = c, sparse = False)\n",
    "    final1 = pd.concat([final1, dumy], axis = 1)\n",
    "#     final1 = final1.drop(c, axis = 1)"
   ]
  },
  {
   "cell_type": "code",
   "execution_count": 213,
   "metadata": {},
   "outputs": [],
   "source": [
    "MIN_MAX_COL = ['total_price', 'base_price']\n",
    "\n",
    "from sklearn.preprocessing import MinMaxScaler\n",
    "\n",
    "scaler = MinMaxScaler()\n",
    "final1[MIN_MAX_COL] = scaler.fit_transform(final1[MIN_MAX_COL])"
   ]
  },
  {
   "cell_type": "code",
   "execution_count": 214,
   "metadata": {},
   "outputs": [
    {
     "data": {
      "text/plain": [
       "Index(['week_number', 'year_end', 'year_start', 'quarter_end', 'quarter_start',\n",
       "       'week_end', 'week_start', 'month_end', 'month_start', 'year', 'day',\n",
       "       'month', 'record_ID', 'week', 'store_id', 'sku_id', 'total_price',\n",
       "       'base_price', 'is_featured_sku', 'is_display_sku', 'units_sold',\n",
       "       'label', 'day_sin', 'day_cos', 'month_sin', 'month_cos', 'year_0',\n",
       "       'year_1', 'year_2'],\n",
       "      dtype='object')"
      ]
     },
     "execution_count": 214,
     "metadata": {},
     "output_type": "execute_result"
    }
   ],
   "source": [
    "final1.columns"
   ]
  },
  {
   "cell_type": "code",
   "execution_count": 282,
   "metadata": {},
   "outputs": [],
   "source": [
    "train = final1[final1['label'] == 'train']\n",
    "test = final1[final1['label'] == 'test']"
   ]
  },
  {
   "cell_type": "code",
   "execution_count": 284,
   "metadata": {},
   "outputs": [
    {
     "data": {
      "text/plain": [
       "Index(['week_number', 'year_end', 'year_start', 'quarter_end', 'quarter_start',\n",
       "       'week_end', 'week_start', 'month_end', 'month_start', 'store_id',\n",
       "       'sku_id', 'total_price', 'base_price', 'is_featured_sku',\n",
       "       'is_display_sku', 'day_sin', 'day_cos', 'month_sin', 'month_cos',\n",
       "       'year_0', 'year_1', 'year_2'],\n",
       "      dtype='object')"
      ]
     },
     "execution_count": 284,
     "metadata": {},
     "output_type": "execute_result"
    }
   ],
   "source": [
    "y = np.log(train['units_sold'])\n",
    "X = train.drop(['record_ID', 'units_sold', 'label', 'week', 'day', 'month', 'year'], axis = 1)\n",
    "col = X.columns\n",
    "col"
   ]
  },
  {
   "cell_type": "markdown",
   "metadata": {},
   "source": [
    "## Modelling "
   ]
  },
  {
   "cell_type": "code",
   "execution_count": 285,
   "metadata": {},
   "outputs": [],
   "source": [
    "from sklearn.model_selection import train_test_split\n",
    "\n",
    "from category_encoders.ordinal import OrdinalEncoder\n",
    "from category_encoders import TargetEncoder, MEstimateEncoder\n",
    "\n",
    "from sklearn.linear_model import LinearRegression\n",
    "from sklearn.ensemble import RandomForestRegressor\n",
    "import lightgbm as lgb\n",
    "\n",
    "import statistics\n",
    "from math import sqrt\n",
    "from sklearn.metrics import mean_squared_error\n",
    "from sklearn.metrics import mean_squared_log_error"
   ]
  },
  {
   "cell_type": "code",
   "execution_count": 286,
   "metadata": {},
   "outputs": [
    {
     "name": "stdout",
     "output_type": "stream",
     "text": [
      "(150150, 22)\n",
      "(112612, 22)\n",
      "(37538, 22)\n"
     ]
    }
   ],
   "source": [
    "np.random.seed(42)\n",
    "val_size = 0.25\n",
    "X_train, X_val, y_train, y_val = train_test_split(X, y, test_size = val_size)\n",
    "print(X.shape)\n",
    "print(X_train.shape)\n",
    "print(X_val.shape)"
   ]
  },
  {
   "cell_type": "markdown",
   "metadata": {},
   "source": [
    "### Linear Regression "
   ]
  },
  {
   "cell_type": "code",
   "execution_count": 47,
   "metadata": {},
   "outputs": [
    {
     "data": {
      "text/plain": [
       "LinearRegression()"
      ]
     },
     "execution_count": 47,
     "metadata": {},
     "output_type": "execute_result"
    }
   ],
   "source": [
    "reg = LinearRegression()\n",
    "reg.fit(X_train, y_train)"
   ]
  },
  {
   "cell_type": "code",
   "execution_count": 48,
   "metadata": {},
   "outputs": [
    {
     "data": {
      "text/plain": [
       "(0.7449968600608239, 0.7447134255391824, 0.18884586198171185)"
      ]
     },
     "execution_count": 48,
     "metadata": {},
     "output_type": "execute_result"
    }
   ],
   "source": [
    "y_pred_tr = reg.predict(X_train)\n",
    "y_pred = reg.predict(X_val)\n",
    "rmse_tr = sqrt(mean_squared_error(y_train, y_pred_tr))\n",
    "rms = sqrt(mean_squared_error(y_val, y_pred))\n",
    "rmsle = sqrt(mean_squared_log_error(y_val, y_pred))\n",
    "rmse_tr, rms, rmsle"
   ]
  },
  {
   "cell_type": "code",
   "execution_count": 49,
   "metadata": {},
   "outputs": [
    {
     "data": {
      "text/plain": [
       "array([3.79973253, 3.79782385, 3.73110144, ..., 3.90103176, 2.55085942,\n",
       "       2.06795773])"
      ]
     },
     "execution_count": 49,
     "metadata": {},
     "output_type": "execute_result"
    }
   ],
   "source": [
    "reg.fit(X, y)\n",
    "prediction = reg.predict(test[col])\n",
    "prediction"
   ]
  },
  {
   "cell_type": "code",
   "execution_count": 50,
   "metadata": {},
   "outputs": [],
   "source": [
    "prediction[prediction < 0] = 1\n",
    "ss['units_sold'] = np.exp(prediction)\n",
    "ss.to_csv('LR.csv', index = False)"
   ]
  },
  {
   "cell_type": "markdown",
   "metadata": {},
   "source": [
    "#### Achieved 223 rank till here for private dashboard with score in public as  742.02 and 727.02 in private Leaderboard"
   ]
  },
  {
   "cell_type": "markdown",
   "metadata": {},
   "source": [
    "### Random Forest regressor "
   ]
  },
  {
   "cell_type": "code",
   "execution_count": 202,
   "metadata": {},
   "outputs": [
    {
     "data": {
      "text/plain": [
       "RandomForestRegressor(max_depth=15, n_estimators=400, random_state=42)"
      ]
     },
     "execution_count": 202,
     "metadata": {},
     "output_type": "execute_result"
    }
   ],
   "source": [
    "reg = RandomForestRegressor(random_state = 42, max_depth = 15, n_estimators = 400)\n",
    "reg.fit(X_train, y_train)"
   ]
  },
  {
   "cell_type": "code",
   "execution_count": 203,
   "metadata": {},
   "outputs": [
    {
     "data": {
      "text/plain": [
       "(0.4218713508564322, 0.48976728932626334, 0.13537604443168338)"
      ]
     },
     "execution_count": 203,
     "metadata": {},
     "output_type": "execute_result"
    }
   ],
   "source": [
    "y_pred_tr = reg.predict(X_train)\n",
    "y_pred = reg.predict(X_val)\n",
    "rmse_tr = sqrt(mean_squared_error(y_train, y_pred_tr))\n",
    "rms = sqrt(mean_squared_error(y_val, y_pred))\n",
    "rmsle = sqrt(mean_squared_log_error(y_val, y_pred))\n",
    "rmse_tr, rms, rmsle"
   ]
  },
  {
   "cell_type": "code",
   "execution_count": 204,
   "metadata": {},
   "outputs": [
    {
     "data": {
      "text/plain": [
       "array([3.16941997, 3.36030789, 3.41678459, ..., 3.35538852, 2.34111854,\n",
       "       2.27519195])"
      ]
     },
     "execution_count": 204,
     "metadata": {},
     "output_type": "execute_result"
    }
   ],
   "source": [
    "reg.fit(X, y)\n",
    "prediction = reg.predict(test[col])\n",
    "prediction"
   ]
  },
  {
   "cell_type": "code",
   "execution_count": 205,
   "metadata": {},
   "outputs": [],
   "source": [
    "prediction[prediction < 0] = 1\n",
    "ss['units_sold'] = np.exp(prediction)\n",
    "ss.to_csv('RF.csv', index = False)"
   ]
  },
  {
   "cell_type": "markdown",
   "metadata": {},
   "source": [
    "#### With Only day, month, year as datetime features and other given columns, and no hyperparameters in RF the score was 469.08 for public testcases and 502.25 for private testcases "
   ]
  },
  {
   "cell_type": "markdown",
   "metadata": {},
   "source": [
    "#### Now Score is 531.13 for public and 579.49 for private, need hyperparameter tuning... i think"
   ]
  },
  {
   "cell_type": "markdown",
   "metadata": {},
   "source": [
    "### Light GBM "
   ]
  },
  {
   "cell_type": "code",
   "execution_count": 51,
   "metadata": {},
   "outputs": [
    {
     "name": "stdout",
     "output_type": "stream",
     "text": [
      "Wall time: 0 ns\n"
     ]
    }
   ],
   "source": [
    "%%time\n",
    "def model(train_x, train_y, test_x, test_y, col):\n",
    "#     params = {\n",
    "#         'nthread': 10,\n",
    "#         'max_depth': 5,\n",
    "# #         'max_depth': 9,\n",
    "#         'task': 'train',\n",
    "#         'boosting_type': 'gbdt',\n",
    "#         'objective': 'regression_l1',\n",
    "#         'metric': 'mape', # this is abs(a-e)/max(1,a)\n",
    "# #         'num_leaves': 39,\n",
    "#         'num_leaves': 64,\n",
    "#         'learning_rate': 0.2,\n",
    "#        'feature_fraction': 0.9,\n",
    "# #         'feature_fraction': 0.8108472661400657,\n",
    "# #         'bagging_fraction': 0.9837558288375402,\n",
    "#        'bagging_fraction': 0.8,\n",
    "#         'bagging_freq': 5,\n",
    "#         'lambda_l1': 3.097758978478437,\n",
    "#         'lambda_l2': 2.9482537987198496,\n",
    "# #       'lambda_l1': 0.06,\n",
    "# #       'lambda_l2': 0.1,\n",
    "#         'verbose': 1,\n",
    "#         'min_child_weight': 6.996211413900573,\n",
    "#         'min_split_gain': 0.037310344962162616,\n",
    "#         }\n",
    "    params = {\n",
    "        'task': 'train',\n",
    "        'boosting_type': 'gbdt',\n",
    "        'objective': 'regression_l1',\n",
    "        'metric': 'mape', # this is abs(a-e)/max(1,a)\n",
    "        'random_state' : 27,\n",
    "        'max_depth' : 10,\n",
    "        'n_estimators' : 500,\n",
    "        'learning_rate': 0.1,\n",
    "        'num_leaves': 100,\n",
    "        'lambda_l1': 0.1,\n",
    "        'lambda_l2': 0.1,\n",
    "    }\n",
    "    \n",
    "    lgb_train = lgb.Dataset(train_x, train_y)\n",
    "    lgb_valid = lgb.Dataset(test_x, test_y)\n",
    "    model = lgb.train(params, lgb_train, 3000, valid_sets = [lgb_train, lgb_valid], early_stopping_rounds=50, verbose_eval=50)\n",
    "    return model "
   ]
  },
  {
   "cell_type": "code",
   "execution_count": 52,
   "metadata": {},
   "outputs": [
    {
     "name": "stderr",
     "output_type": "stream",
     "text": [
      "C:\\Users\\rajat\\Anaconda3\\lib\\site-packages\\lightgbm\\engine.py:148: UserWarning: Found `n_estimators` in params. Will use it instead of argument\n",
      "  warnings.warn(\"Found `{}` in params. Will use it instead of argument\".format(alias))\n"
     ]
    },
    {
     "name": "stdout",
     "output_type": "stream",
     "text": [
      "Training until validation scores don't improve for 50 rounds\n",
      "[50]\ttraining's mape: 0.126122\tvalid_1's mape: 0.12788\n",
      "[100]\ttraining's mape: 0.113227\tvalid_1's mape: 0.116485\n",
      "[150]\ttraining's mape: 0.107112\tvalid_1's mape: 0.111683\n",
      "[200]\ttraining's mape: 0.103223\tvalid_1's mape: 0.109045\n",
      "[250]\ttraining's mape: 0.100578\tvalid_1's mape: 0.107302\n",
      "[300]\ttraining's mape: 0.0985331\tvalid_1's mape: 0.106143\n",
      "[350]\ttraining's mape: 0.0968885\tvalid_1's mape: 0.105328\n",
      "[400]\ttraining's mape: 0.0955629\tvalid_1's mape: 0.10462\n",
      "[450]\ttraining's mape: 0.0944732\tvalid_1's mape: 0.104169\n",
      "[500]\ttraining's mape: 0.0934733\tvalid_1's mape: 0.103729\n",
      "Did not meet early stopping. Best iteration is:\n",
      "[500]\ttraining's mape: 0.0934733\tvalid_1's mape: 0.103729\n",
      "Wall time: 21.2 s\n"
     ]
    }
   ],
   "source": [
    "%%time\n",
    "model = model(X_train, y_train, X_val, y_val, col)"
   ]
  },
  {
   "cell_type": "code",
   "execution_count": 53,
   "metadata": {},
   "outputs": [
    {
     "data": {
      "text/plain": [
       "(0.3674871324399622, 0.395007342592814, 0.11878041810676676)"
      ]
     },
     "execution_count": 53,
     "metadata": {},
     "output_type": "execute_result"
    }
   ],
   "source": [
    "y_pred_tr = model.predict(X_train)\n",
    "y_pred = model.predict(X_val)\n",
    "rmse_tr = sqrt(mean_squared_error(y_train, y_pred_tr))\n",
    "rms = sqrt(mean_squared_error(y_val, y_pred))\n",
    "rmsle = sqrt(mean_squared_log_error(y_val, y_pred))\n",
    "rmse_tr, rms, rmsle"
   ]
  },
  {
   "cell_type": "code",
   "execution_count": 137,
   "metadata": {},
   "outputs": [],
   "source": [
    "params_lgbm = {\n",
    "        'boosting_type': 'gbdt',\n",
    "        'objective': 'regression_l1',\n",
    "        'metric': 'mape', # this is abs(a-e)/max(1,a)\n",
    "        'random_state' : 27,\n",
    "        'max_depth' : 10,\n",
    "        'n_estimators' : 500,\n",
    "        'learning_rate': 0.1,\n",
    "        'num_leaves': 100,\n",
    "        'lambda_l1': 0.1,\n",
    "        'lambda_l2': 0.1,\n",
    "    }\n",
    "\n",
    "# bagging_fraction=0.8, bagging_frequency=4, boosting_type='gbdt',\n",
    "#               class_weight=None, colsample_bytree=1.0, feature_fraction=0.5,\n",
    "#               importance_type='split', learning_rate=0.1, max_depth=30,\n",
    "#               min_child_samples=20, min_child_weight=30, min_data_in_leaf=70,\n",
    "#               min_split_gain=0.0001, n_estimators=200, n_jobs=-1,\n",
    "#               num_leaves=1200, objective=None, random_state=None, reg_alpha=0.0,\n",
    "#               reg_lambda=0.0, silent=True, subsample=1.0,\n",
    "#               subsample_for_bin=200000, subsample_freq=0\n",
    "\n",
    "model_lgb = lgb.LGBMRegressor(**params_lgbm)\n",
    "model_lgb.fit(X, y)"
   ]
  },
  {
   "cell_type": "code",
   "execution_count": 55,
   "metadata": {},
   "outputs": [
    {
     "data": {
      "text/plain": [
       "array([3.39235657, 3.191977  , 3.13019596, ..., 3.30951721, 2.37876707,\n",
       "       2.20798192])"
      ]
     },
     "execution_count": 55,
     "metadata": {},
     "output_type": "execute_result"
    }
   ],
   "source": [
    "prediction = model_lgb.predict(test[col])\n",
    "prediction"
   ]
  },
  {
   "cell_type": "code",
   "execution_count": 56,
   "metadata": {},
   "outputs": [],
   "source": [
    "prediction[prediction < 0] = 1\n",
    "ss['units_sold'] = np.exp(prediction)\n",
    "ss.to_csv('LGBM.csv', index = False)"
   ]
  },
  {
   "cell_type": "markdown",
   "metadata": {},
   "source": [
    "#### Achieved 32 rank till here for private dashboard with score in public as  413.49 and 453.31 in private Leaderboard"
   ]
  },
  {
   "cell_type": "code",
   "execution_count": 47,
   "metadata": {},
   "outputs": [],
   "source": [
    "cat_cols = ['is_featured_sku', 'is_display_sku', 'store_id', 'sku_id']"
   ]
  },
  {
   "cell_type": "code",
   "execution_count": 52,
   "metadata": {},
   "outputs": [],
   "source": [
    "def runLGB(Xtrain, ytrain, Xval, yval, cat_cols, Xtest = None):\n",
    "    params = {\n",
    "    'boosting_type': 'gbdt',\n",
    "    'objective': 'regression',\n",
    "    'metric': 'l1',\n",
    "    'max_depth': 20, \n",
    "    'learning_rate': 0.1,\n",
    "    'verbose': 1,\n",
    "    'min_data_in_leaf' : 10,\n",
    "#     'lambda_l1': 0.2,\n",
    "#     'lambda_l2': 0.1,\n",
    "#     'random_state' : 42,\n",
    "#     'n_estimators' : 500,\n",
    "    'num_leaves': 300,\n",
    "    }\n",
    "\n",
    "    n_estimators = 800\n",
    "    early_stopping_rounds = 10\n",
    "\n",
    "    d_train = lgb.Dataset(Xtrain.copy(), label=ytrain.copy(), categorical_feature=cat_cols)\n",
    "    d_valid = lgb.Dataset(Xval.copy(), label=yval.copy(), categorical_feature=cat_cols)\n",
    "    watchlist = [d_train, d_valid]\n",
    "\n",
    "    model = lgb.train(params, d_train, n_estimators\n",
    "                      , valid_sets = [d_train, d_valid]\n",
    "                      , verbose_eval=n_estimators\n",
    "                      , early_stopping_rounds=early_stopping_rounds)\n",
    "    \n",
    "    preds = model.predict(Xval, num_iteration=model.best_iteration)\n",
    "    err = sqrt(mean_squared_log_error(yval, preds))\n",
    "    \n",
    "    preds_test = model.predict(Xtest, num_iteration = model.best_iteration)\n",
    "    return  preds, err, np.exp(preds_test), model"
   ]
  },
  {
   "cell_type": "code",
   "execution_count": 53,
   "metadata": {},
   "outputs": [
    {
     "name": "stdout",
     "output_type": "stream",
     "text": [
      "Training until validation scores don't improve for 10 rounds\n",
      "Early stopping, best iteration is:\n",
      "[311]\ttraining's l1: 0.17781\tvalid_1's l1: 0.262002\n"
     ]
    }
   ],
   "source": [
    "pred_val, err, pred_test, model = runLGB(X_train, y_train, X_val, y_val, cat_cols, test[col])"
   ]
  },
  {
   "cell_type": "code",
   "execution_count": 54,
   "metadata": {},
   "outputs": [
    {
     "data": {
      "text/plain": [
       "(<lightgbm.basic.Booster at 0x1970961e240>, 0.1094882721138233)"
      ]
     },
     "execution_count": 54,
     "metadata": {},
     "output_type": "execute_result"
    }
   ],
   "source": [
    "model, err"
   ]
  },
  {
   "cell_type": "code",
   "execution_count": 55,
   "metadata": {},
   "outputs": [],
   "source": [
    "ss['units_sold'] = pred_test\n",
    "ss.to_csv('LGBM.csv', index = False)"
   ]
  },
  {
   "cell_type": "code",
   "execution_count": 56,
   "metadata": {},
   "outputs": [
    {
     "data": {
      "text/html": [
       "<div>\n",
       "<style scoped>\n",
       "    .dataframe tbody tr th:only-of-type {\n",
       "        vertical-align: middle;\n",
       "    }\n",
       "\n",
       "    .dataframe tbody tr th {\n",
       "        vertical-align: top;\n",
       "    }\n",
       "\n",
       "    .dataframe thead th {\n",
       "        text-align: right;\n",
       "    }\n",
       "</style>\n",
       "<table border=\"1\" class=\"dataframe\">\n",
       "  <thead>\n",
       "    <tr style=\"text-align: right;\">\n",
       "      <th></th>\n",
       "      <th>feature</th>\n",
       "      <th>importance</th>\n",
       "    </tr>\n",
       "  </thead>\n",
       "  <tbody>\n",
       "    <tr>\n",
       "      <th>11</th>\n",
       "      <td>total_price</td>\n",
       "      <td>18131</td>\n",
       "    </tr>\n",
       "    <tr>\n",
       "      <th>9</th>\n",
       "      <td>store_id</td>\n",
       "      <td>12171</td>\n",
       "    </tr>\n",
       "    <tr>\n",
       "      <th>12</th>\n",
       "      <td>base_price</td>\n",
       "      <td>11958</td>\n",
       "    </tr>\n",
       "    <tr>\n",
       "      <th>0</th>\n",
       "      <td>week_number</td>\n",
       "      <td>11310</td>\n",
       "    </tr>\n",
       "    <tr>\n",
       "      <th>15</th>\n",
       "      <td>day_sin</td>\n",
       "      <td>10525</td>\n",
       "    </tr>\n",
       "    <tr>\n",
       "      <th>16</th>\n",
       "      <td>day_cos</td>\n",
       "      <td>7442</td>\n",
       "    </tr>\n",
       "    <tr>\n",
       "      <th>10</th>\n",
       "      <td>sku_id</td>\n",
       "      <td>5658</td>\n",
       "    </tr>\n",
       "    <tr>\n",
       "      <th>18</th>\n",
       "      <td>month_cos</td>\n",
       "      <td>3485</td>\n",
       "    </tr>\n",
       "    <tr>\n",
       "      <th>17</th>\n",
       "      <td>month_sin</td>\n",
       "      <td>3483</td>\n",
       "    </tr>\n",
       "    <tr>\n",
       "      <th>19</th>\n",
       "      <td>year_0</td>\n",
       "      <td>2112</td>\n",
       "    </tr>\n",
       "    <tr>\n",
       "      <th>20</th>\n",
       "      <td>year_1</td>\n",
       "      <td>1711</td>\n",
       "    </tr>\n",
       "    <tr>\n",
       "      <th>21</th>\n",
       "      <td>year_2</td>\n",
       "      <td>1211</td>\n",
       "    </tr>\n",
       "    <tr>\n",
       "      <th>14</th>\n",
       "      <td>is_display_sku</td>\n",
       "      <td>1154</td>\n",
       "    </tr>\n",
       "    <tr>\n",
       "      <th>13</th>\n",
       "      <td>is_featured_sku</td>\n",
       "      <td>1123</td>\n",
       "    </tr>\n",
       "    <tr>\n",
       "      <th>5</th>\n",
       "      <td>week_end</td>\n",
       "      <td>547</td>\n",
       "    </tr>\n",
       "  </tbody>\n",
       "</table>\n",
       "</div>"
      ],
      "text/plain": [
       "            feature  importance\n",
       "11      total_price       18131\n",
       "9          store_id       12171\n",
       "12       base_price       11958\n",
       "0       week_number       11310\n",
       "15          day_sin       10525\n",
       "16          day_cos        7442\n",
       "10           sku_id        5658\n",
       "18        month_cos        3485\n",
       "17        month_sin        3483\n",
       "19           year_0        2112\n",
       "20           year_1        1711\n",
       "21           year_2        1211\n",
       "14   is_display_sku        1154\n",
       "13  is_featured_sku        1123\n",
       "5          week_end         547"
      ]
     },
     "execution_count": 56,
     "metadata": {},
     "output_type": "execute_result"
    }
   ],
   "source": [
    "a = model.feature_importance(importance_type = 'split')\n",
    "feature = pd.DataFrame(model.feature_name(), columns = ['feature'])\n",
    "feature['importance'] = a\n",
    "feature = feature.sort_values(by = ['importance'], ascending = False)\n",
    "feature.head(15)"
   ]
  },
  {
   "cell_type": "markdown",
   "metadata": {},
   "source": [
    "#### Achieved 17 rank till here for private dashboard with score in public as 407.4 and 444.5 in private Leaderboard"
   ]
  },
  {
   "cell_type": "markdown",
   "metadata": {},
   "source": [
    "### Adding more Features related to Datetime"
   ]
  },
  {
   "cell_type": "code",
   "execution_count": 292,
   "metadata": {},
   "outputs": [],
   "source": [
    "add_datetime_df = pd.DataFrame(None , columns = ['day_of_year'])"
   ]
  },
  {
   "cell_type": "code",
   "execution_count": 293,
   "metadata": {},
   "outputs": [],
   "source": [
    "add_datetime_df_test = pd.DataFrame(None , columns = ['day_of_year'])"
   ]
  },
  {
   "cell_type": "code",
   "execution_count": 294,
   "metadata": {},
   "outputs": [
    {
     "data": {
      "text/html": [
       "<div>\n",
       "<style scoped>\n",
       "    .dataframe tbody tr th:only-of-type {\n",
       "        vertical-align: middle;\n",
       "    }\n",
       "\n",
       "    .dataframe tbody tr th {\n",
       "        vertical-align: top;\n",
       "    }\n",
       "\n",
       "    .dataframe thead th {\n",
       "        text-align: right;\n",
       "    }\n",
       "</style>\n",
       "<table border=\"1\" class=\"dataframe\">\n",
       "  <thead>\n",
       "    <tr style=\"text-align: right;\">\n",
       "      <th></th>\n",
       "      <th>day_of_year</th>\n",
       "    </tr>\n",
       "  </thead>\n",
       "  <tbody>\n",
       "  </tbody>\n",
       "</table>\n",
       "</div>"
      ],
      "text/plain": [
       "Empty DataFrame\n",
       "Columns: [day_of_year]\n",
       "Index: []"
      ]
     },
     "execution_count": 294,
     "metadata": {},
     "output_type": "execute_result"
    }
   ],
   "source": [
    "add_datetime_df.head()"
   ]
  },
  {
   "cell_type": "code",
   "execution_count": 295,
   "metadata": {},
   "outputs": [],
   "source": [
    "add_datetime_df['day_of_year'] = train['week'].apply(lambda x: x.dayofyear)\n",
    "add_datetime_df['day_of_week'] = train['week'].apply(lambda x: x.weekday())\n",
    "\n",
    "lbl_season = ['Winter', 'Spring', 'Summer', 'Fall']\n",
    "add_datetime_df['season'] = pd.cut(train['month'], bins = [1,2, 5,8,11], labels = lbl_season)\n",
    "add_datetime_df['season'] = add_datetime_df['season'].fillna('Winter')\n",
    "\n",
    "\n",
    "lbl_month = ['beg', 'mid', 'end']\n",
    "add_datetime_df['month_time'] = pd.cut(train['month'], bins = [0, 7, 24, 31], labels = lbl_month)\n",
    "\n",
    "lbl_weekend = ['weekdays', 'weekend']\n",
    "add_datetime_df['week_time'] = pd.cut(add_datetime_df['day_of_week'], bins = [-1, 4, 6], labels = lbl_weekend)\n",
    "\n",
    "\n",
    "\n",
    "add_datetime_df_test['day_of_year'] = test['week'].apply(lambda x: x.dayofyear)\n",
    "add_datetime_df_test['day_of_week'] = test['week'].apply(lambda x: x.weekday())\n",
    "\n",
    "lbl_season = ['Winter', 'Spring', 'Summer', 'Fall']\n",
    "add_datetime_df_test['season'] = pd.cut(test['month'], bins = [1,2, 5,8,11], labels = lbl_season)\n",
    "add_datetime_df_test['season'] = add_datetime_df_test['season'].fillna('Winter')\n",
    "\n",
    "lbl_month = ['beg', 'mid', 'end']\n",
    "add_datetime_df_test['month_time'] = pd.cut(test['month'], bins = [0, 7, 24, 31], labels = lbl_month)\n",
    "\n",
    "lbl_weekend = ['weekdays', 'weekend']\n",
    "add_datetime_df_test['week_time'] = pd.cut(add_datetime_df_test['day_of_week'], bins = [-1, 4, 6], labels = lbl_weekend)"
   ]
  },
  {
   "cell_type": "code",
   "execution_count": null,
   "metadata": {},
   "outputs": [],
   "source": [
    "# le = OrdinalEncoder()\n",
    "# add_datetime_df['week_1'] = le.fit_transform(add_datetime_df['week'])\n",
    "# add_datetime_df_test['week_1'] = le.fit_transform(add_datetime_df_test['week'])\n",
    "\n",
    "# #Creating week number feature\n",
    "# add_datetime_df['week_num'] = add_datetime_df.week_1%52\n",
    "# add_datetime_df_test['week_num'] = add_datetime_df_test.week_1%52\n",
    "\n",
    "# add_datetime_df['week_num1'] = add_datetime_df.week_1%4\n",
    "# add_datetime_df_test['week_num1'] = add_datetime_df_test.week_1%4\n",
    "\n",
    "# # Encoding 'week' it using sine and cosine transform; considering it as a cyclic feature \n",
    "# add_datetime_df['week_sin'] = np.sin(2 * np.pi * add_datetime_df['week_1'] / 52.143)\n",
    "# add_datetime_df_test['week_cos'] = np.cos(2 * np.pi * add_datetime_df_test['week_1'] / 52.143)"
   ]
  },
  {
   "cell_type": "code",
   "execution_count": 298,
   "metadata": {},
   "outputs": [],
   "source": [
    "col = ['season', 'month_time', 'week_time']\n",
    "lbl = LabelEncoder()\n",
    "for c in col:\n",
    "    add_datetime_df[c] = lbl.fit_transform(add_datetime_df[c])\n",
    "    dumy = pd.get_dummies(add_datetime_df[c], prefix = c, sparse = False)\n",
    "    add_datetime_df = pd.concat([add_datetime_df, dumy], axis = 1)\n",
    "    \n",
    "col = ['season', 'month_time', 'week_time']\n",
    "lbl = LabelEncoder()\n",
    "for c in col:\n",
    "    add_datetime_df_test[c] = lbl.fit_transform(add_datetime_df_test[c])\n",
    "    dumy = pd.get_dummies(add_datetime_df_test[c], prefix = c, sparse = False)\n",
    "    add_datetime_df_test = pd.concat([add_datetime_df_test, dumy], axis = 1)"
   ]
  },
  {
   "cell_type": "code",
   "execution_count": 300,
   "metadata": {},
   "outputs": [],
   "source": [
    "col = ['week_number', 'year_end', 'year_start', 'quarter_end', 'quarter_start',\n",
    "       'week_end', 'week_start', 'month_end', 'month_start', 'store_id',\n",
    "       'sku_id', 'total_price', 'base_price', 'is_featured_sku',\n",
    "       'is_display_sku', 'day_sin', 'day_cos', 'month_sin', 'month_cos',\n",
    "       'year_0', 'year_1', 'year_2']"
   ]
  },
  {
   "cell_type": "code",
   "execution_count": 301,
   "metadata": {},
   "outputs": [],
   "source": [
    "col_to_use = col + ['day_of_year', 'day_of_week', 'season_0', 'season_1', 'season_2', 'season_3', 'month_time_0',\\\n",
    "       'month_time_1', 'week_time_0', 'week_time_1']"
   ]
  },
  {
   "cell_type": "code",
   "execution_count": 303,
   "metadata": {},
   "outputs": [],
   "source": [
    "train = pd.concat([train, add_datetime_df], axis = 1)\n",
    "test = pd.concat([test, add_datetime_df_test], axis = 1)"
   ]
  },
  {
   "cell_type": "code",
   "execution_count": 306,
   "metadata": {},
   "outputs": [
    {
     "name": "stdout",
     "output_type": "stream",
     "text": [
      "(120120, 32) (120120,) (30030, 32) (30030,)\n"
     ]
    }
   ],
   "source": [
    "X = train[col_to_use]\n",
    "y = np.log(train['units_sold']) # Transforming target into normal via logarithmic operation\n",
    "\n",
    "X_train, X_val, y_train, y_val = train_test_split(X, y, test_size = 0.2, random_state = 42)\n",
    "print(X_train.shape, y_train.shape, X_val.shape, y_val.shape)"
   ]
  },
  {
   "cell_type": "code",
   "execution_count": 307,
   "metadata": {},
   "outputs": [],
   "source": [
    "new_cat_cols = ['year_end', 'year_start', 'quarter_end', 'quarter_start',\\\n",
    "'week_end', 'week_start', 'month_end', 'month_start',\\\n",
    "'year_0', 'year_1', 'year_2', 'season_0',\\\n",
    "'season_1', 'season_2', 'season_3', 'month_time_0', 'month_time_1',\\\n",
    "'week_time_0', 'week_time_1']"
   ]
  },
  {
   "cell_type": "code",
   "execution_count": 308,
   "metadata": {},
   "outputs": [],
   "source": [
    "cat_cols_to_use = cat_cols + new_cat_cols"
   ]
  },
  {
   "cell_type": "code",
   "execution_count": 318,
   "metadata": {},
   "outputs": [],
   "source": [
    "def runLGB(Xtrain, ytrain, Xval, yval, cat_cols, Xtest = None):\n",
    "    params = {\n",
    "    'boosting_type': 'gbdt',\n",
    "    'objective': 'regression',\n",
    "    'metric': 'l1',\n",
    "#     'max_depth': 20, \n",
    "    'learning_rate': 0.1,\n",
    "    'verbose': 1,\n",
    "    'min_data_in_leaf' : 10,\n",
    "#     'lambda_l1': 0.2,\n",
    "#     'lambda_l2': 0.1,\n",
    "#     'random_state' : 42,\n",
    "#     'n_estimators' : 500,\n",
    "#     'num_leaves': 300,\n",
    "    }\n",
    "\n",
    "    n_estimators = 800\n",
    "    early_stopping_rounds = 10\n",
    "\n",
    "    d_train = lgb.Dataset(Xtrain.copy(), label=ytrain.copy(), categorical_feature=cat_cols_to_use)\n",
    "    d_valid = lgb.Dataset(Xval.copy(), label=yval.copy(), categorical_feature=cat_cols_to_use)\n",
    "    watchlist = [d_train, d_valid]\n",
    "\n",
    "    model = lgb.train(params, d_train, n_estimators\n",
    "                      , valid_sets = [d_train, d_valid]\n",
    "                      , verbose_eval=n_estimators\n",
    "                      , early_stopping_rounds=early_stopping_rounds)\n",
    "    \n",
    "    preds = model.predict(Xval, num_iteration=model.best_iteration)\n",
    "    err = sqrt(mean_squared_log_error(yval, preds))\n",
    "    \n",
    "    preds_test = model.predict(Xtest, num_iteration = model.best_iteration)\n",
    "    return  preds, err, np.exp(preds_test), model"
   ]
  },
  {
   "cell_type": "code",
   "execution_count": 319,
   "metadata": {},
   "outputs": [
    {
     "name": "stdout",
     "output_type": "stream",
     "text": [
      "Training until validation scores don't improve for 10 rounds\n",
      "[800]\ttraining's l1: 0.228506\tvalid_1's l1: 0.264128\n",
      "Did not meet early stopping. Best iteration is:\n",
      "[800]\ttraining's l1: 0.228506\tvalid_1's l1: 0.264128\n"
     ]
    }
   ],
   "source": [
    "pred_val, err, pred_test, model = runLGB(X_train, y_train, X_val, y_val, cat_cols, test[col_to_use])"
   ]
  },
  {
   "cell_type": "code",
   "execution_count": 320,
   "metadata": {},
   "outputs": [
    {
     "data": {
      "text/plain": [
       "0.10886374361561814"
      ]
     },
     "execution_count": 320,
     "metadata": {},
     "output_type": "execute_result"
    }
   ],
   "source": [
    "err"
   ]
  },
  {
   "cell_type": "code",
   "execution_count": 321,
   "metadata": {},
   "outputs": [],
   "source": [
    "ss['units_sold'] = pred_test\n",
    "ss.to_csv('LGBM.csv', index = False)"
   ]
  },
  {
   "cell_type": "markdown",
   "metadata": {},
   "source": [
    "#### This has not given satisfactorily results."
   ]
  },
  {
   "cell_type": "markdown",
   "metadata": {},
   "source": [
    "### SKU based Model Fitting With LGBM"
   ]
  },
  {
   "cell_type": "code",
   "execution_count": 322,
   "metadata": {},
   "outputs": [],
   "source": [
    "train['difference'] = train['base_price'] - train['total_price']\n",
    "test['difference'] = test['base_price'] - test['total_price']\n",
    "\n",
    "train['relative_base_price'] = train['total_price']/train['base_price']\n",
    "test['relative_base_price'] = test['total_price']/test['base_price']\n",
    "train['relative_total_price'] = train['base_price']/train['total_price']\n",
    "test['relative_total_price'] = test['base_price']/test['total_price']"
   ]
  },
  {
   "cell_type": "code",
   "execution_count": 330,
   "metadata": {},
   "outputs": [],
   "source": [
    "col_to_use_sku = col + ['difference', 'relative_base_price', 'relative_total_price', 'store_encoded', 'sku_encoded']"
   ]
  },
  {
   "cell_type": "code",
   "execution_count": 324,
   "metadata": {},
   "outputs": [],
   "source": [
    "encoder = MEstimateEncoder()\n",
    "encoder.fit(train['store_id'], train['units_sold'])\n",
    "train['store_encoded'] = encoder.transform(train['store_id'], train['units_sold'])\n",
    "encoder.fit(train['sku_id'], train['units_sold'])\n",
    "train['sku_encoded'] = encoder.transform(train['sku_id'], train['units_sold'])"
   ]
  },
  {
   "cell_type": "code",
   "execution_count": 325,
   "metadata": {},
   "outputs": [],
   "source": [
    "encoder = MEstimateEncoder()\n",
    "encoder.fit(test['store_id'], test['units_sold'])\n",
    "test['store_encoded'] = encoder.transform(test['store_id'], test['units_sold'])\n",
    "encoder.fit(test['sku_id'], test['units_sold'])\n",
    "test['sku_encoded'] = encoder.transform(test['sku_id'], test['units_sold'])"
   ]
  },
  {
   "cell_type": "code",
   "execution_count": 329,
   "metadata": {},
   "outputs": [
    {
     "data": {
      "text/html": [
       "<div>\n",
       "<style scoped>\n",
       "    .dataframe tbody tr th:only-of-type {\n",
       "        vertical-align: middle;\n",
       "    }\n",
       "\n",
       "    .dataframe tbody tr th {\n",
       "        vertical-align: top;\n",
       "    }\n",
       "\n",
       "    .dataframe thead th {\n",
       "        text-align: right;\n",
       "    }\n",
       "</style>\n",
       "<table border=\"1\" class=\"dataframe\">\n",
       "  <thead>\n",
       "    <tr style=\"text-align: right;\">\n",
       "      <th></th>\n",
       "      <th>week_number</th>\n",
       "      <th>year_end</th>\n",
       "      <th>year_start</th>\n",
       "      <th>quarter_end</th>\n",
       "      <th>quarter_start</th>\n",
       "      <th>week_end</th>\n",
       "      <th>week_start</th>\n",
       "      <th>month_end</th>\n",
       "      <th>month_start</th>\n",
       "      <th>year</th>\n",
       "      <th>...</th>\n",
       "      <th>month_time_0</th>\n",
       "      <th>month_time_1</th>\n",
       "      <th>week_time_0</th>\n",
       "      <th>week_time_1</th>\n",
       "      <th>difference</th>\n",
       "      <th>relative_base_price</th>\n",
       "      <th>relative_total_price</th>\n",
       "      <th>store_encoded</th>\n",
       "      <th>sku_encoded</th>\n",
       "      <th>week_1</th>\n",
       "    </tr>\n",
       "  </thead>\n",
       "  <tbody>\n",
       "    <tr>\n",
       "      <th>0</th>\n",
       "      <td>3</td>\n",
       "      <td>0</td>\n",
       "      <td>0</td>\n",
       "      <td>0</td>\n",
       "      <td>0</td>\n",
       "      <td>0</td>\n",
       "      <td>0</td>\n",
       "      <td>0</td>\n",
       "      <td>0</td>\n",
       "      <td>0</td>\n",
       "      <td>...</td>\n",
       "      <td>1</td>\n",
       "      <td>0</td>\n",
       "      <td>1</td>\n",
       "      <td>0</td>\n",
       "      <td>-0.009811</td>\n",
       "      <td>1.097146</td>\n",
       "      <td>0.911455</td>\n",
       "      <td>8091</td>\n",
       "      <td>216418</td>\n",
       "      <td>2011-01-17</td>\n",
       "    </tr>\n",
       "    <tr>\n",
       "      <th>1</th>\n",
       "      <td>3</td>\n",
       "      <td>0</td>\n",
       "      <td>0</td>\n",
       "      <td>0</td>\n",
       "      <td>0</td>\n",
       "      <td>0</td>\n",
       "      <td>0</td>\n",
       "      <td>0</td>\n",
       "      <td>0</td>\n",
       "      <td>0</td>\n",
       "      <td>...</td>\n",
       "      <td>1</td>\n",
       "      <td>0</td>\n",
       "      <td>1</td>\n",
       "      <td>0</td>\n",
       "      <td>-0.035416</td>\n",
       "      <td>1.469762</td>\n",
       "      <td>0.680382</td>\n",
       "      <td>8091</td>\n",
       "      <td>216419</td>\n",
       "      <td>2011-01-17</td>\n",
       "    </tr>\n",
       "    <tr>\n",
       "      <th>2</th>\n",
       "      <td>3</td>\n",
       "      <td>0</td>\n",
       "      <td>0</td>\n",
       "      <td>0</td>\n",
       "      <td>0</td>\n",
       "      <td>0</td>\n",
       "      <td>0</td>\n",
       "      <td>0</td>\n",
       "      <td>0</td>\n",
       "      <td>0</td>\n",
       "      <td>...</td>\n",
       "      <td>1</td>\n",
       "      <td>0</td>\n",
       "      <td>1</td>\n",
       "      <td>0</td>\n",
       "      <td>-0.032746</td>\n",
       "      <td>1.225691</td>\n",
       "      <td>0.815866</td>\n",
       "      <td>8091</td>\n",
       "      <td>216425</td>\n",
       "      <td>2011-01-17</td>\n",
       "    </tr>\n",
       "    <tr>\n",
       "      <th>3</th>\n",
       "      <td>3</td>\n",
       "      <td>0</td>\n",
       "      <td>0</td>\n",
       "      <td>0</td>\n",
       "      <td>0</td>\n",
       "      <td>0</td>\n",
       "      <td>0</td>\n",
       "      <td>0</td>\n",
       "      <td>0</td>\n",
       "      <td>0</td>\n",
       "      <td>...</td>\n",
       "      <td>1</td>\n",
       "      <td>0</td>\n",
       "      <td>1</td>\n",
       "      <td>0</td>\n",
       "      <td>-0.032746</td>\n",
       "      <td>1.225691</td>\n",
       "      <td>0.815866</td>\n",
       "      <td>8091</td>\n",
       "      <td>216233</td>\n",
       "      <td>2011-01-17</td>\n",
       "    </tr>\n",
       "    <tr>\n",
       "      <th>4</th>\n",
       "      <td>3</td>\n",
       "      <td>0</td>\n",
       "      <td>0</td>\n",
       "      <td>0</td>\n",
       "      <td>0</td>\n",
       "      <td>0</td>\n",
       "      <td>0</td>\n",
       "      <td>0</td>\n",
       "      <td>0</td>\n",
       "      <td>0</td>\n",
       "      <td>...</td>\n",
       "      <td>1</td>\n",
       "      <td>0</td>\n",
       "      <td>1</td>\n",
       "      <td>0</td>\n",
       "      <td>-0.032201</td>\n",
       "      <td>1.202120</td>\n",
       "      <td>0.831863</td>\n",
       "      <td>8091</td>\n",
       "      <td>217390</td>\n",
       "      <td>2011-01-17</td>\n",
       "    </tr>\n",
       "  </tbody>\n",
       "</table>\n",
       "<p>5 rows × 48 columns</p>\n",
       "</div>"
      ],
      "text/plain": [
       "   week_number  year_end  year_start  quarter_end  quarter_start  week_end  \\\n",
       "0            3         0           0            0              0         0   \n",
       "1            3         0           0            0              0         0   \n",
       "2            3         0           0            0              0         0   \n",
       "3            3         0           0            0              0         0   \n",
       "4            3         0           0            0              0         0   \n",
       "\n",
       "   week_start  month_end  month_start  year  ...  month_time_0  month_time_1  \\\n",
       "0           0          0            0     0  ...             1             0   \n",
       "1           0          0            0     0  ...             1             0   \n",
       "2           0          0            0     0  ...             1             0   \n",
       "3           0          0            0     0  ...             1             0   \n",
       "4           0          0            0     0  ...             1             0   \n",
       "\n",
       "   week_time_0 week_time_1  difference  relative_base_price  \\\n",
       "0            1           0   -0.009811             1.097146   \n",
       "1            1           0   -0.035416             1.469762   \n",
       "2            1           0   -0.032746             1.225691   \n",
       "3            1           0   -0.032746             1.225691   \n",
       "4            1           0   -0.032201             1.202120   \n",
       "\n",
       "   relative_total_price  store_encoded  sku_encoded     week_1  \n",
       "0              0.911455           8091       216418 2011-01-17  \n",
       "1              0.680382           8091       216419 2011-01-17  \n",
       "2              0.815866           8091       216425 2011-01-17  \n",
       "3              0.815866           8091       216233 2011-01-17  \n",
       "4              0.831863           8091       217390 2011-01-17  \n",
       "\n",
       "[5 rows x 48 columns]"
      ]
     },
     "execution_count": 329,
     "metadata": {},
     "output_type": "execute_result"
    }
   ],
   "source": [
    "train.head()"
   ]
  },
  {
   "cell_type": "code",
   "execution_count": 336,
   "metadata": {},
   "outputs": [],
   "source": [
    "def sku_model(model, col_to_use_sku):\n",
    "    sub = pd.DataFrame(None, columns = ['record_ID', 'units_sold'])\n",
    "    res_err = []\n",
    "    skus = train['sku_id'].unique()\n",
    "    for sku in skus:\n",
    "        X = train[train['sku_id'] == sku][col_to_use_sku]\n",
    "        y = np.log(train[train['sku_id'] == sku]['units_sold'])\n",
    "        \n",
    "        Xtrain, Xval, ytrain, yval = train_test_split(X, y, test_size = 0.2, random_state = 42)\n",
    "        model.fit(X, y)\n",
    "    \n",
    "        y_pred = model.predict(Xval)\n",
    "        err = sqrt(mean_squared_log_error(np.exp(yval), np.exp(y_pred)))\n",
    "        res_err.append(err)\n",
    "        \n",
    "        print(f'RMSLE for {sku} is: {err}')\n",
    "        \n",
    "        preds = model.predict(test[test['sku_id'] == sku][col_to_use_sku])    \n",
    "        temp_df =  pd.DataFrame.from_dict({'record_ID': test[test['sku_id'] == sku]['record_ID'], 'units_sold':  np.exp(preds)})\n",
    "        sub = sub.append(temp_df)\n",
    "    print(\"average Error\", statistics.mean(res_err))\n",
    "    return sub"
   ]
  },
  {
   "cell_type": "code",
   "execution_count": 338,
   "metadata": {},
   "outputs": [
    {
     "name": "stdout",
     "output_type": "stream",
     "text": [
      "RMSLE for 216418 is: 0.23447741993384866\n",
      "RMSLE for 216419 is: 0.24447620259891073\n",
      "RMSLE for 216425 is: 0.27372743928193694\n",
      "RMSLE for 216233 is: 0.23006736023359825\n",
      "RMSLE for 217390 is: 0.23458552414319422\n",
      "RMSLE for 219009 is: 0.2050738944504378\n",
      "RMSLE for 219029 is: 0.2532923231121506\n",
      "RMSLE for 223245 is: 0.2751743635767299\n",
      "RMSLE for 223153 is: 0.2764528295835078\n",
      "RMSLE for 300021 is: 0.261283303787235\n",
      "RMSLE for 219844 is: 0.28011472907860113\n",
      "RMSLE for 222087 is: 0.2245395680780116\n",
      "RMSLE for 320485 is: 0.2569222324904345\n",
      "RMSLE for 378934 is: 0.30050038985017913\n",
      "RMSLE for 222765 is: 0.2910546929329972\n",
      "RMSLE for 245387 is: 0.32377854576264836\n",
      "RMSLE for 245338 is: 0.3143259284844529\n",
      "RMSLE for 547934 is: 0.32794305946006547\n",
      "RMSLE for 300291 is: 0.28157441912612513\n",
      "RMSLE for 217217 is: 0.32451616851627985\n",
      "RMSLE for 217777 is: 0.29697425583073267\n",
      "RMSLE for 398721 is: 0.32639021162208925\n",
      "RMSLE for 679023 is: 0.2500489241109736\n",
      "RMSLE for 546789 is: 0.20809040511970667\n",
      "RMSLE for 600934 is: 0.2661273488103211\n",
      "RMSLE for 545621 is: 0.24047121199415694\n",
      "RMSLE for 673209 is: 0.3847562098331824\n",
      "RMSLE for 327492 is: 0.2759935772504061\n",
      "average Error 0.2736690192518898\n"
     ]
    }
   ],
   "source": [
    "params_lgbm = {\n",
    "        'boosting_type': 'gbdt',\n",
    "        'objective': 'regression_l1',\n",
    "        'metric': 'l1', # this is abs(a-e)/max(1,a)\n",
    "        'random_state' : 42,\n",
    "#         'max_depth' : 10,\n",
    "        'n_estimators' : 800,\n",
    "        'min_data_in_leaf' : 10,\n",
    "        'learning_rate': 0.1,\n",
    "#         'num_leaves': 100,\n",
    "#         'lambda_l1': 0.1,\n",
    "#         'lambda_l2': 0.1,\n",
    "    }\n",
    "\n",
    "model_lgb = lgb.LGBMRegressor(**params_lgbm)\n",
    "# temp = train.drop(['record_ID', 'store_id', 'sku_id', 'units_sold', 'label'], axis =1)\n",
    "sub = sku_model(model_lgb, col_to_use_sku)\n",
    "sub.sort_values(by = ['record_ID']).to_csv('sub_sku_RF_v2.csv', index = False)"
   ]
  },
  {
   "cell_type": "markdown",
   "metadata": {},
   "source": [
    "#### Not Good Results.."
   ]
  },
  {
   "cell_type": "code",
   "execution_count": null,
   "metadata": {},
   "outputs": [],
   "source": []
  }
 ],
 "metadata": {
  "kernelspec": {
   "display_name": "Python 3",
   "language": "python",
   "name": "python3"
  },
  "language_info": {
   "codemirror_mode": {
    "name": "ipython",
    "version": 3
   },
   "file_extension": ".py",
   "mimetype": "text/x-python",
   "name": "python",
   "nbconvert_exporter": "python",
   "pygments_lexer": "ipython3",
   "version": "3.7.3"
  }
 },
 "nbformat": 4,
 "nbformat_minor": 2
}
